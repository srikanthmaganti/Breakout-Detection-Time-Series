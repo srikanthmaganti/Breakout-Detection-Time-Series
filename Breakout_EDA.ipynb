{
 "cells": [
  {
   "cell_type": "markdown",
   "metadata": {},
   "source": [
    "# Data Preparation"
   ]
  },
  {
   "cell_type": "code",
   "execution_count": 1,
   "metadata": {},
   "outputs": [],
   "source": [
    "# To help you get started...\n",
    "from IPython.display import display\n",
    "import numpy as np\n",
    "import pandas as pd\n",
    "import matplotlib.pyplot as plt\n",
    "import datetime as dt\n",
    "from scipy import stats\n",
    "import math\n",
    "%matplotlib inline "
   ]
  },
  {
   "cell_type": "code",
   "execution_count": 2,
   "metadata": {},
   "outputs": [
    {
     "data": {
      "image/png": "[encoded data removed]",
      "text/plain": [
       "<Figure size 432x288 with 1 Axes>"
      ]
     },
     "metadata": {
      "needs_background": "light"
     },
     "output_type": "display_data"
    }
   ],
   "source": [
    "df = pd.read_csv(r'C:\\Users\\srika\\OneDrive\\Desktop\\Spring20\\Tagup\\exampleco_data-20200306T165930Z-001\\exampleco_data\\machine_0.csv',index_col=0)\n",
    "plt.plot(range(len(df)), df)\n",
    "plt.show()"
   ]
  },
  {
   "cell_type": "markdown",
   "metadata": {},
   "source": [
    "Reframing Dataframe in understandable way"
   ]
  },
  {
   "cell_type": "code",
   "execution_count": 3,
   "metadata": {},
   "outputs": [],
   "source": [
    "df['Date_created']=df.index"
   ]
  },
  {
   "cell_type": "code",
   "execution_count": 4,
   "metadata": {},
   "outputs": [],
   "source": [
    "df=df.reset_index(drop=True)"
   ]
  },
  {
   "cell_type": "code",
   "execution_count": 5,
   "metadata": {},
   "outputs": [],
   "source": [
    "df.rename(columns={'0':'sensor1',\n",
    "                          '1':'sensor2',\n",
    "                          '2':'sensor3','3':'sensor4'},inplace=True)"
   ]
  },
  {
   "cell_type": "code",
   "execution_count": 6,
   "metadata": {},
   "outputs": [
    {
     "data": {
      "text/html": [
       "<div>\n",
       "<style scoped>\n",
       "    .dataframe tbody tr th:only-of-type {\n",
       "        vertical-align: middle;\n",
       "    }\n",
       "\n",
       "    .dataframe tbody tr th {\n",
       "        vertical-align: top;\n",
       "    }\n",
       "\n",
       "    .dataframe thead th {\n",
       "        text-align: right;\n",
       "    }\n",
       "</style>\n",
       "<table border=\"1\" class=\"dataframe\">\n",
       "  <thead>\n",
       "    <tr style=\"text-align: right;\">\n",
       "      <th></th>\n",
       "      <th>sensor1</th>\n",
       "      <th>sensor2</th>\n",
       "      <th>sensor3</th>\n",
       "      <th>sensor4</th>\n",
       "      <th>Date_created</th>\n",
       "    </tr>\n",
       "  </thead>\n",
       "  <tbody>\n",
       "    <tr>\n",
       "      <td>0</td>\n",
       "      <td>12.626096</td>\n",
       "      <td>8.803120</td>\n",
       "      <td>-11.809200</td>\n",
       "      <td>10.083961</td>\n",
       "      <td>2019-01-01 00:00:00.000000000</td>\n",
       "    </tr>\n",
       "    <tr>\n",
       "      <td>1</td>\n",
       "      <td>10.831994</td>\n",
       "      <td>2.816327</td>\n",
       "      <td>11.554778</td>\n",
       "      <td>21.892853</td>\n",
       "      <td>2019-01-01 08:00:09.603201067</td>\n",
       "    </tr>\n",
       "    <tr>\n",
       "      <td>2</td>\n",
       "      <td>21.083510</td>\n",
       "      <td>-0.672645</td>\n",
       "      <td>-17.839178</td>\n",
       "      <td>-1.349024</td>\n",
       "      <td>2019-01-01 16:00:19.206402134</td>\n",
       "    </tr>\n",
       "    <tr>\n",
       "      <td>3</td>\n",
       "      <td>32.294495</td>\n",
       "      <td>6.525132</td>\n",
       "      <td>-13.498586</td>\n",
       "      <td>-4.250752</td>\n",
       "      <td>2019-01-02 00:00:28.809603201</td>\n",
       "    </tr>\n",
       "    <tr>\n",
       "      <td>4</td>\n",
       "      <td>28.057100</td>\n",
       "      <td>3.691359</td>\n",
       "      <td>21.984744</td>\n",
       "      <td>13.670561</td>\n",
       "      <td>2019-01-02 08:00:38.412804268</td>\n",
       "    </tr>\n",
       "  </tbody>\n",
       "</table>\n",
       "</div>"
      ],
      "text/plain": [
       "     sensor1   sensor2    sensor3    sensor4                   Date_created\n",
       "0  12.626096  8.803120 -11.809200  10.083961  2019-01-01 00:00:00.000000000\n",
       "1  10.831994  2.816327  11.554778  21.892853  2019-01-01 08:00:09.603201067\n",
       "2  21.083510 -0.672645 -17.839178  -1.349024  2019-01-01 16:00:19.206402134\n",
       "3  32.294495  6.525132 -13.498586  -4.250752  2019-01-02 00:00:28.809603201\n",
       "4  28.057100  3.691359  21.984744  13.670561  2019-01-02 08:00:38.412804268"
      ]
     },
     "execution_count": 6,
     "metadata": {},
     "output_type": "execute_result"
    }
   ],
   "source": [
    "df.head()"
   ]
  },
  {
   "cell_type": "code",
   "execution_count": 7,
   "metadata": {},
   "outputs": [
    {
     "data": {
      "text/plain": [
       "<matplotlib.axes._subplots.AxesSubplot at 0x1bac4d5f7b8>"
      ]
     },
     "execution_count": 7,
     "metadata": {},
     "output_type": "execute_result"
    },
    {
     "data": {
      "image/png": "[encoded data removed]",
      "text/plain": [
       "<Figure size 432x288 with 1 Axes>"
      ]
     },
     "metadata": {
      "needs_background": "light"
     },
     "output_type": "display_data"
    }
   ],
   "source": [
    "df['sensor1'].plot()"
   ]
  },
  {
   "cell_type": "code",
   "execution_count": 8,
   "metadata": {},
   "outputs": [],
   "source": [
    "cols = list(df.columns)\n",
    "cols = [cols[-1]] + cols[:-1]\n",
    "df = df[cols]"
   ]
  },
  {
   "cell_type": "code",
   "execution_count": 9,
   "metadata": {},
   "outputs": [
    {
     "data": {
      "text/html": [
       "<div>\n",
       "<style scoped>\n",
       "    .dataframe tbody tr th:only-of-type {\n",
       "        vertical-align: middle;\n",
       "    }\n",
       "\n",
       "    .dataframe tbody tr th {\n",
       "        vertical-align: top;\n",
       "    }\n",
       "\n",
       "    .dataframe thead th {\n",
       "        text-align: right;\n",
       "    }\n",
       "</style>\n",
       "<table border=\"1\" class=\"dataframe\">\n",
       "  <thead>\n",
       "    <tr style=\"text-align: right;\">\n",
       "      <th></th>\n",
       "      <th>Date_created</th>\n",
       "      <th>sensor1</th>\n",
       "      <th>sensor2</th>\n",
       "      <th>sensor3</th>\n",
       "      <th>sensor4</th>\n",
       "    </tr>\n",
       "  </thead>\n",
       "  <tbody>\n",
       "    <tr>\n",
       "      <td>0</td>\n",
       "      <td>2019-01-01 00:00:00.000000000</td>\n",
       "      <td>12.626096</td>\n",
       "      <td>8.803120</td>\n",
       "      <td>-11.809200</td>\n",
       "      <td>10.083961</td>\n",
       "    </tr>\n",
       "    <tr>\n",
       "      <td>1</td>\n",
       "      <td>2019-01-01 08:00:09.603201067</td>\n",
       "      <td>10.831994</td>\n",
       "      <td>2.816327</td>\n",
       "      <td>11.554778</td>\n",
       "      <td>21.892853</td>\n",
       "    </tr>\n",
       "    <tr>\n",
       "      <td>2</td>\n",
       "      <td>2019-01-01 16:00:19.206402134</td>\n",
       "      <td>21.083510</td>\n",
       "      <td>-0.672645</td>\n",
       "      <td>-17.839178</td>\n",
       "      <td>-1.349024</td>\n",
       "    </tr>\n",
       "    <tr>\n",
       "      <td>3</td>\n",
       "      <td>2019-01-02 00:00:28.809603201</td>\n",
       "      <td>32.294495</td>\n",
       "      <td>6.525132</td>\n",
       "      <td>-13.498586</td>\n",
       "      <td>-4.250752</td>\n",
       "    </tr>\n",
       "    <tr>\n",
       "      <td>4</td>\n",
       "      <td>2019-01-02 08:00:38.412804268</td>\n",
       "      <td>28.057100</td>\n",
       "      <td>3.691359</td>\n",
       "      <td>21.984744</td>\n",
       "      <td>13.670561</td>\n",
       "    </tr>\n",
       "  </tbody>\n",
       "</table>\n",
       "</div>"
      ],
      "text/plain": [
       "                    Date_created    sensor1   sensor2    sensor3    sensor4\n",
       "0  2019-01-01 00:00:00.000000000  12.626096  8.803120 -11.809200  10.083961\n",
       "1  2019-01-01 08:00:09.603201067  10.831994  2.816327  11.554778  21.892853\n",
       "2  2019-01-01 16:00:19.206402134  21.083510 -0.672645 -17.839178  -1.349024\n",
       "3  2019-01-02 00:00:28.809603201  32.294495  6.525132 -13.498586  -4.250752\n",
       "4  2019-01-02 08:00:38.412804268  28.057100  3.691359  21.984744  13.670561"
      ]
     },
     "execution_count": 9,
     "metadata": {},
     "output_type": "execute_result"
    }
   ],
   "source": [
    "df.head()"
   ]
  },
  {
   "cell_type": "markdown",
   "metadata": {},
   "source": [
    "Creating new features dependent on Date_created"
   ]
  },
  {
   "cell_type": "code",
   "execution_count": 10,
   "metadata": {},
   "outputs": [
    {
     "data": {
      "text/html": [
       "<div>\n",
       "<style scoped>\n",
       "    .dataframe tbody tr th:only-of-type {\n",
       "        vertical-align: middle;\n",
       "    }\n",
       "\n",
       "    .dataframe tbody tr th {\n",
       "        vertical-align: top;\n",
       "    }\n",
       "\n",
       "    .dataframe thead th {\n",
       "        text-align: right;\n",
       "    }\n",
       "</style>\n",
       "<table border=\"1\" class=\"dataframe\">\n",
       "  <thead>\n",
       "    <tr style=\"text-align: right;\">\n",
       "      <th></th>\n",
       "      <th>Date_created</th>\n",
       "      <th>sensor1</th>\n",
       "      <th>sensor2</th>\n",
       "      <th>sensor3</th>\n",
       "      <th>sensor4</th>\n",
       "    </tr>\n",
       "  </thead>\n",
       "  <tbody>\n",
       "    <tr>\n",
       "      <td>0</td>\n",
       "      <td>2019-01-01 00:00:00.000000000</td>\n",
       "      <td>12.626096</td>\n",
       "      <td>8.803120</td>\n",
       "      <td>-11.809200</td>\n",
       "      <td>10.083961</td>\n",
       "    </tr>\n",
       "    <tr>\n",
       "      <td>1</td>\n",
       "      <td>2019-01-01 08:00:09.603201067</td>\n",
       "      <td>10.831994</td>\n",
       "      <td>2.816327</td>\n",
       "      <td>11.554778</td>\n",
       "      <td>21.892853</td>\n",
       "    </tr>\n",
       "    <tr>\n",
       "      <td>2</td>\n",
       "      <td>2019-01-01 16:00:19.206402134</td>\n",
       "      <td>21.083510</td>\n",
       "      <td>-0.672645</td>\n",
       "      <td>-17.839178</td>\n",
       "      <td>-1.349024</td>\n",
       "    </tr>\n",
       "    <tr>\n",
       "      <td>3</td>\n",
       "      <td>2019-01-02 00:00:28.809603201</td>\n",
       "      <td>32.294495</td>\n",
       "      <td>6.525132</td>\n",
       "      <td>-13.498586</td>\n",
       "      <td>-4.250752</td>\n",
       "    </tr>\n",
       "    <tr>\n",
       "      <td>4</td>\n",
       "      <td>2019-01-02 08:00:38.412804268</td>\n",
       "      <td>28.057100</td>\n",
       "      <td>3.691359</td>\n",
       "      <td>21.984744</td>\n",
       "      <td>13.670561</td>\n",
       "    </tr>\n",
       "  </tbody>\n",
       "</table>\n",
       "</div>"
      ],
      "text/plain": [
       "                    Date_created    sensor1   sensor2    sensor3    sensor4\n",
       "0  2019-01-01 00:00:00.000000000  12.626096  8.803120 -11.809200  10.083961\n",
       "1  2019-01-01 08:00:09.603201067  10.831994  2.816327  11.554778  21.892853\n",
       "2  2019-01-01 16:00:19.206402134  21.083510 -0.672645 -17.839178  -1.349024\n",
       "3  2019-01-02 00:00:28.809603201  32.294495  6.525132 -13.498586  -4.250752\n",
       "4  2019-01-02 08:00:38.412804268  28.057100  3.691359  21.984744  13.670561"
      ]
     },
     "execution_count": 10,
     "metadata": {},
     "output_type": "execute_result"
    }
   ],
   "source": [
    "df.head()"
   ]
  },
  {
   "cell_type": "markdown",
   "metadata": {},
   "source": [
    "# Correlation between sensors"
   ]
  },
  {
   "cell_type": "code",
   "execution_count": 11,
   "metadata": {},
   "outputs": [
    {
     "data": {
      "text/plain": [
       "<matplotlib.axes._subplots.AxesSubplot at 0x1bac7e339b0>"
      ]
     },
     "execution_count": 11,
     "metadata": {},
     "output_type": "execute_result"
    },
    {
     "data": {
      "image/png": "[encoded data removed]",
      "text/plain": [
       "<Figure size 432x288 with 1 Axes>"
      ]
     },
     "metadata": {
      "needs_background": "light"
     },
     "output_type": "display_data"
    }
   ],
   "source": [
    "df['sensor1'].plot()"
   ]
  },
  {
   "cell_type": "markdown",
   "metadata": {},
   "source": [
    "# keep only the ones that are within +3 to -3 standard deviations in the column 'Data' (Removing noise)"
   ]
  },
  {
   "cell_type": "code",
   "execution_count": 12,
   "metadata": {},
   "outputs": [],
   "source": [
    "df=df[abs(df.sensor1-df.sensor1.mean()) <= (3*df.sensor1.std())]\n",
    "df=df[abs(df.sensor2-df.sensor2.mean()) <= (3*df.sensor2.std())]\n",
    "df=df[abs(df.sensor3-df.sensor3.mean()) <= (3*df.sensor3.std())]\n",
    "df=df[abs(df.sensor4-df.sensor4.mean()) <= (3*df.sensor4.std())]"
   ]
  },
  {
   "cell_type": "code",
   "execution_count": 13,
   "metadata": {},
   "outputs": [],
   "source": [
    "df=df.reset_index(drop=True)"
   ]
  },
  {
   "cell_type": "code",
   "execution_count": 14,
   "metadata": {},
   "outputs": [
    {
     "data": {
      "text/html": [
       "<div>\n",
       "<style scoped>\n",
       "    .dataframe tbody tr th:only-of-type {\n",
       "        vertical-align: middle;\n",
       "    }\n",
       "\n",
       "    .dataframe tbody tr th {\n",
       "        vertical-align: top;\n",
       "    }\n",
       "\n",
       "    .dataframe thead th {\n",
       "        text-align: right;\n",
       "    }\n",
       "</style>\n",
       "<table border=\"1\" class=\"dataframe\">\n",
       "  <thead>\n",
       "    <tr style=\"text-align: right;\">\n",
       "      <th></th>\n",
       "      <th>Date_created</th>\n",
       "      <th>sensor1</th>\n",
       "      <th>sensor2</th>\n",
       "      <th>sensor3</th>\n",
       "      <th>sensor4</th>\n",
       "    </tr>\n",
       "  </thead>\n",
       "  <tbody>\n",
       "    <tr>\n",
       "      <td>0</td>\n",
       "      <td>2019-01-01 00:00:00.000000000</td>\n",
       "      <td>12.626096</td>\n",
       "      <td>8.803120</td>\n",
       "      <td>-11.809200</td>\n",
       "      <td>10.083961</td>\n",
       "    </tr>\n",
       "    <tr>\n",
       "      <td>1</td>\n",
       "      <td>2019-01-01 08:00:09.603201067</td>\n",
       "      <td>10.831994</td>\n",
       "      <td>2.816327</td>\n",
       "      <td>11.554778</td>\n",
       "      <td>21.892853</td>\n",
       "    </tr>\n",
       "    <tr>\n",
       "      <td>2</td>\n",
       "      <td>2019-01-01 16:00:19.206402134</td>\n",
       "      <td>21.083510</td>\n",
       "      <td>-0.672645</td>\n",
       "      <td>-17.839178</td>\n",
       "      <td>-1.349024</td>\n",
       "    </tr>\n",
       "    <tr>\n",
       "      <td>3</td>\n",
       "      <td>2019-01-02 00:00:28.809603201</td>\n",
       "      <td>32.294495</td>\n",
       "      <td>6.525132</td>\n",
       "      <td>-13.498586</td>\n",
       "      <td>-4.250752</td>\n",
       "    </tr>\n",
       "    <tr>\n",
       "      <td>4</td>\n",
       "      <td>2019-01-02 08:00:38.412804268</td>\n",
       "      <td>28.057100</td>\n",
       "      <td>3.691359</td>\n",
       "      <td>21.984744</td>\n",
       "      <td>13.670561</td>\n",
       "    </tr>\n",
       "  </tbody>\n",
       "</table>\n",
       "</div>"
      ],
      "text/plain": [
       "                    Date_created    sensor1   sensor2    sensor3    sensor4\n",
       "0  2019-01-01 00:00:00.000000000  12.626096  8.803120 -11.809200  10.083961\n",
       "1  2019-01-01 08:00:09.603201067  10.831994  2.816327  11.554778  21.892853\n",
       "2  2019-01-01 16:00:19.206402134  21.083510 -0.672645 -17.839178  -1.349024\n",
       "3  2019-01-02 00:00:28.809603201  32.294495  6.525132 -13.498586  -4.250752\n",
       "4  2019-01-02 08:00:38.412804268  28.057100  3.691359  21.984744  13.670561"
      ]
     },
     "execution_count": 14,
     "metadata": {},
     "output_type": "execute_result"
    }
   ],
   "source": [
    "df.head()"
   ]
  },
  {
   "cell_type": "markdown",
   "metadata": {},
   "source": [
    "# The below plot clearly tells us that machine is dead after 350 values"
   ]
  },
  {
   "cell_type": "code",
   "execution_count": 15,
   "metadata": {},
   "outputs": [
    {
     "data": {
      "text/plain": [
       "<matplotlib.axes._subplots.AxesSubplot at 0x1bac7ea1dd8>"
      ]
     },
     "execution_count": 15,
     "metadata": {},
     "output_type": "execute_result"
    },
    {
     "data": {
      "image/png": "[encoded data removed]",
      "text/plain": [
       "<Figure size 432x288 with 1 Axes>"
      ]
     },
     "metadata": {
      "needs_background": "light"
     },
     "output_type": "display_data"
    }
   ],
   "source": [
    "df['sensor1'].plot()"
   ]
  },
  {
   "cell_type": "code",
   "execution_count": 16,
   "metadata": {},
   "outputs": [
    {
     "data": {
      "text/plain": [
       "<matplotlib.axes._subplots.AxesSubplot at 0x1bac7eed7b8>"
      ]
     },
     "execution_count": 16,
     "metadata": {},
     "output_type": "execute_result"
    },
    {
     "data": {
      "image/png": "[encoded data removed]",
      "text/plain": [
       "<Figure size 432x288 with 1 Axes>"
      ]
     },
     "metadata": {
      "needs_background": "light"
     },
     "output_type": "display_data"
    }
   ],
   "source": [
    "df['sensor2'].plot()"
   ]
  },
  {
   "cell_type": "code",
   "execution_count": 17,
   "metadata": {},
   "outputs": [
    {
     "data": {
      "text/plain": [
       "<matplotlib.axes._subplots.AxesSubplot at 0x1bac7f6c908>"
      ]
     },
     "execution_count": 17,
     "metadata": {},
     "output_type": "execute_result"
    },
    {
     "data": {
      "image/png": "[encoded data removed]",
      "text/plain": [
       "<Figure size 432x288 with 1 Axes>"
      ]
     },
     "metadata": {
      "needs_background": "light"
     },
     "output_type": "display_data"
    }
   ],
   "source": [
    "df['sensor3'].plot()"
   ]
  },
  {
   "cell_type": "code",
   "execution_count": 18,
   "metadata": {},
   "outputs": [
    {
     "data": {
      "text/plain": [
       "<matplotlib.axes._subplots.AxesSubplot at 0x1bac7fc7320>"
      ]
     },
     "execution_count": 18,
     "metadata": {},
     "output_type": "execute_result"
    },
    {
     "data": {
      "image/png": "[encoded data removed]",
      "text/plain": [
       "<Figure size 432x288 with 1 Axes>"
      ]
     },
     "metadata": {
      "needs_background": "light"
     },
     "output_type": "display_data"
    }
   ],
   "source": [
    "df['sensor4'].plot()"
   ]
  },
  {
   "cell_type": "code",
   "execution_count": 19,
   "metadata": {},
   "outputs": [
    {
     "data": {
      "text/html": [
       "<div>\n",
       "<style scoped>\n",
       "    .dataframe tbody tr th:only-of-type {\n",
       "        vertical-align: middle;\n",
       "    }\n",
       "\n",
       "    .dataframe tbody tr th {\n",
       "        vertical-align: top;\n",
       "    }\n",
       "\n",
       "    .dataframe thead th {\n",
       "        text-align: right;\n",
       "    }\n",
       "</style>\n",
       "<table border=\"1\" class=\"dataframe\">\n",
       "  <thead>\n",
       "    <tr style=\"text-align: right;\">\n",
       "      <th></th>\n",
       "      <th>Date_created</th>\n",
       "      <th>sensor1</th>\n",
       "      <th>sensor2</th>\n",
       "      <th>sensor3</th>\n",
       "      <th>sensor4</th>\n",
       "    </tr>\n",
       "  </thead>\n",
       "  <tbody>\n",
       "    <tr>\n",
       "      <td>0</td>\n",
       "      <td>2019-01-01 00:00:00.000000000</td>\n",
       "      <td>12.626096</td>\n",
       "      <td>8.803120</td>\n",
       "      <td>-11.809200</td>\n",
       "      <td>10.083961</td>\n",
       "    </tr>\n",
       "    <tr>\n",
       "      <td>1</td>\n",
       "      <td>2019-01-01 08:00:09.603201067</td>\n",
       "      <td>10.831994</td>\n",
       "      <td>2.816327</td>\n",
       "      <td>11.554778</td>\n",
       "      <td>21.892853</td>\n",
       "    </tr>\n",
       "    <tr>\n",
       "      <td>2</td>\n",
       "      <td>2019-01-01 16:00:19.206402134</td>\n",
       "      <td>21.083510</td>\n",
       "      <td>-0.672645</td>\n",
       "      <td>-17.839178</td>\n",
       "      <td>-1.349024</td>\n",
       "    </tr>\n",
       "    <tr>\n",
       "      <td>3</td>\n",
       "      <td>2019-01-02 00:00:28.809603201</td>\n",
       "      <td>32.294495</td>\n",
       "      <td>6.525132</td>\n",
       "      <td>-13.498586</td>\n",
       "      <td>-4.250752</td>\n",
       "    </tr>\n",
       "    <tr>\n",
       "      <td>4</td>\n",
       "      <td>2019-01-02 08:00:38.412804268</td>\n",
       "      <td>28.057100</td>\n",
       "      <td>3.691359</td>\n",
       "      <td>21.984744</td>\n",
       "      <td>13.670561</td>\n",
       "    </tr>\n",
       "  </tbody>\n",
       "</table>\n",
       "</div>"
      ],
      "text/plain": [
       "                    Date_created    sensor1   sensor2    sensor3    sensor4\n",
       "0  2019-01-01 00:00:00.000000000  12.626096  8.803120 -11.809200  10.083961\n",
       "1  2019-01-01 08:00:09.603201067  10.831994  2.816327  11.554778  21.892853\n",
       "2  2019-01-01 16:00:19.206402134  21.083510 -0.672645 -17.839178  -1.349024\n",
       "3  2019-01-02 00:00:28.809603201  32.294495  6.525132 -13.498586  -4.250752\n",
       "4  2019-01-02 08:00:38.412804268  28.057100  3.691359  21.984744  13.670561"
      ]
     },
     "execution_count": 19,
     "metadata": {},
     "output_type": "execute_result"
    }
   ],
   "source": [
    "df.head()"
   ]
  },
  {
   "cell_type": "markdown",
   "metadata": {},
   "source": [
    "# Checking with mean_value how the data varies"
   ]
  },
  {
   "cell_type": "code",
   "execution_count": 22,
   "metadata": {},
   "outputs": [],
   "source": [
    "df['mean_value']=df.apply(lambda row:(((row.sensor1)**2)+((row.sensor2)**2)+((row.sensor3)**2)+((row.sensor4)**2)/4),axis=1)"
   ]
  },
  {
   "cell_type": "code",
   "execution_count": 23,
   "metadata": {},
   "outputs": [],
   "source": [
    "df['square_root']=df.apply(lambda row:math.sqrt(row.mean_value),axis=1)"
   ]
  },
  {
   "cell_type": "code",
   "execution_count": 24,
   "metadata": {},
   "outputs": [
    {
     "data": {
      "text/html": [
       "<div>\n",
       "<style scoped>\n",
       "    .dataframe tbody tr th:only-of-type {\n",
       "        vertical-align: middle;\n",
       "    }\n",
       "\n",
       "    .dataframe tbody tr th {\n",
       "        vertical-align: top;\n",
       "    }\n",
       "\n",
       "    .dataframe thead th {\n",
       "        text-align: right;\n",
       "    }\n",
       "</style>\n",
       "<table border=\"1\" class=\"dataframe\">\n",
       "  <thead>\n",
       "    <tr style=\"text-align: right;\">\n",
       "      <th></th>\n",
       "      <th>Date_created</th>\n",
       "      <th>sensor1</th>\n",
       "      <th>sensor2</th>\n",
       "      <th>sensor3</th>\n",
       "      <th>sensor4</th>\n",
       "      <th>mean_value</th>\n",
       "      <th>square_root</th>\n",
       "    </tr>\n",
       "  </thead>\n",
       "  <tbody>\n",
       "    <tr>\n",
       "      <td>0</td>\n",
       "      <td>2019-01-01 00:00:00.000000000</td>\n",
       "      <td>12.626096</td>\n",
       "      <td>8.803120</td>\n",
       "      <td>-11.809200</td>\n",
       "      <td>10.083961</td>\n",
       "      <td>401.792003</td>\n",
       "      <td>20.044750</td>\n",
       "    </tr>\n",
       "    <tr>\n",
       "      <td>1</td>\n",
       "      <td>2019-01-01 08:00:09.603201067</td>\n",
       "      <td>10.831994</td>\n",
       "      <td>2.816327</td>\n",
       "      <td>11.554778</td>\n",
       "      <td>21.892853</td>\n",
       "      <td>378.600932</td>\n",
       "      <td>19.457670</td>\n",
       "    </tr>\n",
       "    <tr>\n",
       "      <td>2</td>\n",
       "      <td>2019-01-01 16:00:19.206402134</td>\n",
       "      <td>21.083510</td>\n",
       "      <td>-0.672645</td>\n",
       "      <td>-17.839178</td>\n",
       "      <td>-1.349024</td>\n",
       "      <td>763.658087</td>\n",
       "      <td>27.634364</td>\n",
       "    </tr>\n",
       "    <tr>\n",
       "      <td>3</td>\n",
       "      <td>2019-01-02 00:00:28.809603201</td>\n",
       "      <td>32.294495</td>\n",
       "      <td>6.525132</td>\n",
       "      <td>-13.498586</td>\n",
       "      <td>-4.250752</td>\n",
       "      <td>1272.240768</td>\n",
       "      <td>35.668484</td>\n",
       "    </tr>\n",
       "    <tr>\n",
       "      <td>4</td>\n",
       "      <td>2019-01-02 08:00:38.412804268</td>\n",
       "      <td>28.057100</td>\n",
       "      <td>3.691359</td>\n",
       "      <td>21.984744</td>\n",
       "      <td>13.670561</td>\n",
       "      <td>1330.877002</td>\n",
       "      <td>36.481187</td>\n",
       "    </tr>\n",
       "  </tbody>\n",
       "</table>\n",
       "</div>"
      ],
      "text/plain": [
       "                    Date_created    sensor1   sensor2    sensor3    sensor4  \\\n",
       "0  2019-01-01 00:00:00.000000000  12.626096  8.803120 -11.809200  10.083961   \n",
       "1  2019-01-01 08:00:09.603201067  10.831994  2.816327  11.554778  21.892853   \n",
       "2  2019-01-01 16:00:19.206402134  21.083510 -0.672645 -17.839178  -1.349024   \n",
       "3  2019-01-02 00:00:28.809603201  32.294495  6.525132 -13.498586  -4.250752   \n",
       "4  2019-01-02 08:00:38.412804268  28.057100  3.691359  21.984744  13.670561   \n",
       "\n",
       "    mean_value  square_root  \n",
       "0   401.792003    20.044750  \n",
       "1   378.600932    19.457670  \n",
       "2   763.658087    27.634364  \n",
       "3  1272.240768    35.668484  \n",
       "4  1330.877002    36.481187  "
      ]
     },
     "execution_count": 24,
     "metadata": {},
     "output_type": "execute_result"
    }
   ],
   "source": [
    "df.head()"
   ]
  },
  {
   "cell_type": "markdown",
   "metadata": {},
   "source": [
    "# Labelling of data is done by setting threshold value as 3 standard devaitions above mean"
   ]
  },
  {
   "cell_type": "code",
   "execution_count": 25,
   "metadata": {},
   "outputs": [
    {
     "data": {
      "image/png": "[encoded data removed]",
      "text/plain": [
       "<Figure size 432x288 with 1 Axes>"
      ]
     },
     "metadata": {
      "needs_background": "light"
     },
     "output_type": "display_data"
    }
   ],
   "source": [
    "import matplotlib.pyplot as plt\n",
    "import numpy as np\n",
    "\n",
    "fig, ax = plt.subplots()\n",
    "\n",
    "\n",
    "threshold = df['square_root'][:1500].mean()+3*df['square_root'][:1500].std()\n",
    "\n",
    "ax.axhline(y=threshold, color='r', linestyle=':')\n",
    "ax.plot(df['square_root'])\n",
    "\n",
    "greater_than_threshold = [i for i, val in enumerate(df['square_root'][:1500]) if val>threshold]\n",
    "ax.plot(greater_than_threshold, df['square_root'][:1500][greater_than_threshold], \n",
    "        linestyle='none', color='r', marker='o')\n",
    "\n",
    "plt.show()"
   ]
  },
  {
   "cell_type": "markdown",
   "metadata": {},
   "source": [
    "# Marking the labels"
   ]
  },
  {
   "cell_type": "code",
   "execution_count": 26,
   "metadata": {},
   "outputs": [],
   "source": [
    "df['Labels']=df.apply(lambda row:0 if row.square_root>(threshold) else 1,axis=1)"
   ]
  },
  {
   "cell_type": "code",
   "execution_count": 27,
   "metadata": {},
   "outputs": [
    {
     "data": {
      "text/plain": [
       "0       1\n",
       "1       1\n",
       "2       1\n",
       "3       1\n",
       "4       1\n",
       "       ..\n",
       "2453    1\n",
       "2454    1\n",
       "2455    1\n",
       "2456    1\n",
       "2457    1\n",
       "Name: Labels, Length: 2458, dtype: int64"
      ]
     },
     "execution_count": 27,
     "metadata": {},
     "output_type": "execute_result"
    }
   ],
   "source": [
    "df['Labels']"
   ]
  },
  {
   "cell_type": "markdown",
   "metadata": {},
   "source": [
    "# Exploratory Data Analysis"
   ]
  },
  {
   "cell_type": "markdown",
   "metadata": {},
   "source": [
    "When I have checked with all the different machine_Sensor values, I get to know that many of the machine sensors follow same pattern.\n",
    "As I have observed there are normal values at initial stages and slowly it starts to rise. So, we can check the region for Faulty values.\n",
    "As the different machine corresponding sensor values follow same pattern and each machine data consists of around 500 rows which is very less to apply any machine learning model.\n",
    "So, I have plan to concatenate all the data\n"
   ]
  }
 ],
 "metadata": {
  "kernelspec": {
   "display_name": "Python 3",
   "language": "python",
   "name": "python3"
  },
  "language_info": {
   "codemirror_mode": {
    "name": "ipython",
    "version": 3
   },
   "file_extension": ".py",
   "mimetype": "text/x-python",
   "name": "python",
   "nbconvert_exporter": "python",
   "pygments_lexer": "ipython3",
   "version": "3.7.1"
  }
 },
 "nbformat": 4,
 "nbformat_minor": 2
}
